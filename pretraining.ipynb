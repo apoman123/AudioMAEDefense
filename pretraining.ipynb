{
 "cells": [
  {
   "cell_type": "code",
   "execution_count": 8,
   "metadata": {},
   "outputs": [],
   "source": [
    "import os\n",
    "import time"
   ]
  },
  {
   "cell_type": "code",
   "execution_count": 9,
   "metadata": {},
   "outputs": [],
   "source": [
    "import argparse\n",
    "import torch\n",
    "import torch.nn as nn\n",
    "import torch.distributed as dist\n",
    "from torch.nn.parallel import DistributedDataParallel\n",
    "from datasets import load_dataset, load_from_disk\n",
    "from torch.utils.data import DataLoader\n",
    "from torch.utils.data.distributed import DistributedSampler\n",
    "from torch.distributed import init_process_group, destroy_process_group\n",
    "from accelerate import Accelerator"
   ]
  },
  {
   "cell_type": "code",
   "execution_count": 10,
   "metadata": {},
   "outputs": [],
   "source": [
    "from model.waveform_model import WaveMAE\n",
    "from model.spectrogram_model import SpectrogramMAE"
   ]
  },
  {
   "cell_type": "code",
   "execution_count": null,
   "metadata": {},
   "outputs": [],
   "source": [
    "parser = argparse.ArgumentParser()\n",
    "parser.add_argument(\"--backend\", default=\"nccl\", type=str)\n",
    "# dataset configuration\n",
    "parser.add_argument(\"--num_workers\", default=4, type=int)\n",
    "parser.add_argument(\"--batch_size\", default=512, type=int)\n",
    "parser.add_argument(\"--pin_memory\", default=True, type=bool)\n",
    "\n",
    "# model configuration\n",
    "parser.add_argument(\"--model_type\", default=\"waveform\", choices=[\"waveform\", \"spectrogram\"], type=str)\n",
    "parser.add_argument(\"--embed_dim\", default=768, type=int)\n",
    "parser.add_argument(\"--num_heads\", default=16, type=int)\n",
    "parser.add_argument(\"--middle_channel\", default=512, type=int)\n",
    "parser.add_argument(\"--depth\", default=12, type=int)\n",
    "parser.add_argument(\"--masking_mode\", default=\"random\", choices=[\"random\", \"uniform\"], type=str)\n",
    "parser.add_argument(\"--masked_ratio\", default=0.8, type=float)\n",
    "\n",
    "# training configuration\n",
    "parser.add_argument(\"--epochs\", default=100, type=int)\n",
    "parser.add_argument(\"--lr\", default=1e-5, type=float)\n",
    "parser.add_argument(\"--max_lr\", default=2e-4, type=float)\n",
    "parser.add_argument(\"--accum_steps\", default=0, type=int)\n",
    "parser.add_argument(\"--save_epoch\", default=5, type=int)\n",
    "parser.add_argument(\"--model_path\", default=None, type=str)\n",
    "parser.add_argument(\"--save_path\", type=str)\n",
    "parser.add_argument(\"--show_every\", default=5, type=int)\n",
    "\n",
    "args = parser.parse_args()"
   ]
  },
  {
   "cell_type": "code",
   "execution_count": null,
   "metadata": {},
   "outputs": [],
   "source": [
    "def collate_fn(batch):\n",
    "    if args.model_type == \"waveform\":\n",
    "        pass\n",
    "    elif args.model_type == \"spectrogram\":\n",
    "        pass\n",
    "    # still need to implement"
   ]
  },
  {
   "cell_type": "code",
   "execution_count": null,
   "metadata": {},
   "outputs": [],
   "source": [
    "def ddp_setup():\n",
    "   \"\"\"\n",
    "   Args:\n",
    "       rank: Unique identifier of each process\n",
    "       world_size: Total number of processes\n",
    "   \"\"\"\n",
    "   os.environ[\"MASTER_ADDR\"] = \"localhost\"\n",
    "   os.environ[\"MASTER_PORT\"] = \"12355\"\n",
    "   init_process_group(backend=\"nccl\")"
   ]
  },
  {
   "cell_type": "code",
   "execution_count": null,
   "metadata": {},
   "outputs": [],
   "source": [
    "# dataset\n",
    "training_set = load_dataset(\"agkphysics/AudioSet\", \"unbalanced\")[\"train\"]\n",
    "training_set_sampler = DistributedSampler(training_set)\n",
    "train_loader = DataLoader(training_set, sampler=training_set_sampler, batch_size=args.batch_size,\n",
    "                          shuffle=True, num_workers=args.num_workers, pin_memory=True,\n",
    "                          collate_fn=collate_fn) # add collate function if needed"
   ]
  },
  {
   "cell_type": "code",
   "execution_count": null,
   "metadata": {},
   "outputs": [],
   "source": [
    "# device\n",
    "rank = dist.get_rank()\n",
    "device_id = rank % torch.cuda.device_count()"
   ]
  },
  {
   "cell_type": "code",
   "execution_count": null,
   "metadata": {},
   "outputs": [],
   "source": [
    "# model\n",
    "if args.model_type == \"waveform\":\n",
    "    model = WaveMAE(middle_channel=args.middle_channel, embed_dim=args.embed_dim, num_heads=args.num_heads,\n",
    "                    depth=args.depth, masking_mode=args.masking_mode, masked_ratio=args.masked_ratio)\n",
    "elif args.model_type == \"spectrogram\":\n",
    "    model = SpectrogramMAE(embed_dim=args.embed_dim, num_heads=args.num_heads, depth=args.depth,\n",
    "                           masking_mode=args.masking_mode, mask_ratio=args.mask_ratio)\n",
    "model.to(device_id)\n",
    "ddp_model = torch.nn.SyncBatchNorm.convert_sync_batchnorm(model)\n",
    "ddp_model = DistributedDataParallel(ddp_model, device_ids=[rank], output_device=rank)"
   ]
  },
  {
   "cell_type": "code",
   "execution_count": null,
   "metadata": {},
   "outputs": [],
   "source": [
    "# optimization\n",
    "lr = args.lr\n",
    "epochs = args.epochs\n",
    "loss_fn = nn.MSELoss()\n",
    "optimizer = torch.optim.Adam(model.parameters(), lr=lr)\n",
    "scheduler = torch.optim.lr_scheduler.LinearLR(optimizer)"
   ]
  },
  {
   "cell_type": "code",
   "execution_count": null,
   "metadata": {},
   "outputs": [],
   "source": [
    "# resume\n",
    "if args.model_path != None:\n",
    "    checkpoint = torch.load(args.model_path)\n",
    "    ddp_model.load_state_dict(checkpoint[\"model\"])\n",
    "    optimizer.load_state_dict(checkpoint[\"optimizer\"])\n",
    "    scheduler = checkpoint['scheduler']\n",
    "    print(f\"load state dict from {args.model_path} and resume training from epoch {args.resume_epoch}\")\n"
   ]
  },
  {
   "cell_type": "code",
   "execution_count": null,
   "metadata": {},
   "outputs": [],
   "source": [
    "# accelerate\n",
    "accelerator = Accelerator()\n",
    "ddp_model, optimizer, train_loader, scheduler = accelerator.prepare(\n",
    "    model, optimizer, train_loader, scheduler\n",
    ")"
   ]
  },
  {
   "cell_type": "code",
   "execution_count": null,
   "metadata": {},
   "outputs": [],
   "source": [
    "# training loop\n",
    "ddp_model.train()\n",
    "print(f\"start training model for {epochs}\")\n",
    "for epoch in range(epochs):\n",
    "    for step, input_tensor in enumerate(train_loader):\n",
    "        steps_start_time = time.time()\n",
    "        # input to the model\n",
    "        result = ddp_model(input_tensor)\n",
    "\n",
    "        # calc the loss\n",
    "        loss = loss_fn(result, input_tensor)\n",
    "\n",
    "        # calc the gradient\n",
    "        accelerator.backward(loss)\n",
    "\n",
    "\n",
    "        if (step+1) % args.show_every:\n",
    "            steps_stop_time = time.time()\n",
    "            # cost for a step\n",
    "            step_time = steps_stop_time - steps_start_time\n",
    "            print(f\"Epoch: {epoch+1}/{epochs} | Step: {step+1}/{len(train_loader)} | Loss: {loss.item()} | ETA: {}\")\n",
    "\n",
    "        if (step+1) % args.accum_steps == 0:\n",
    "            # update the model\n",
    "            optimizer.step()\n",
    "            scheduler.step(loss)\n",
    "            optimizer.zero_grad()\n",
    "\n",
    "    if (epoch+1) % args.save_epoch == 0:\n",
    "        checkpoint = {\n",
    "            \"epoch\": epoch,\n",
    "            \"model\": ddp_model.state_dict(),\n",
    "            \"optimizer\": optimizer.state_dict(),\n",
    "            \"scheduler\": scheduler\n",
    "        }\n",
    "        torch.save(checkpoint, args.save_path + f\"{model.__class__.__name__}_epoch_{epoch+1}\")"
   ]
  }
 ],
 "metadata": {
  "kernelspec": {
   "display_name": "audio_mae_defense",
   "language": "python",
   "name": "python3"
  },
  "language_info": {
   "codemirror_mode": {
    "name": "ipython",
    "version": 3
   },
   "file_extension": ".py",
   "mimetype": "text/x-python",
   "name": "python",
   "nbconvert_exporter": "python",
   "pygments_lexer": "ipython3",
   "version": "3.10.14"
  }
 },
 "nbformat": 4,
 "nbformat_minor": 2
}
