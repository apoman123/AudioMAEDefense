{
 "cells": [
  {
   "cell_type": "code",
   "execution_count": 1,
   "metadata": {},
   "outputs": [],
   "source": [
    "import os"
   ]
  },
  {
   "cell_type": "code",
   "execution_count": 2,
   "metadata": {},
   "outputs": [
    {
     "name": "stderr",
     "output_type": "stream",
     "text": [
      "/home/apoman123/miniconda3/envs/audio_mae_defense/lib/python3.11/site-packages/tqdm/auto.py:21: TqdmWarning: IProgress not found. Please update jupyter and ipywidgets. See https://ipywidgets.readthedocs.io/en/stable/user_install.html\n",
      "  from .autonotebook import tqdm as notebook_tqdm\n"
     ]
    }
   ],
   "source": [
    "import argparse\n",
    "import torch\n",
    "import torch.nn as nn\n",
    "import torch.distributed as dist\n",
    "from torch.nn.parallel import DistributedDataParallel\n",
    "from datasets import load_dataset, load_from_disk\n",
    "from torch.utils.data import DataLoader\n",
    "from torch.utils.data.distributed import DistributedSampler\n",
    "from torch.distributed import init_process_group, destroy_process_group"
   ]
  },
  {
   "cell_type": "code",
   "execution_count": null,
   "metadata": {},
   "outputs": [],
   "source": [
    "from model.waveform_model import WaveMAE\n",
    "from model.spectrogram_model import SpectrogramMAE"
   ]
  },
  {
   "cell_type": "code",
   "execution_count": 3,
   "metadata": {},
   "outputs": [
    {
     "data": {
      "text/plain": [
       "_StoreAction(option_strings=['--num_processes'], dest='num_processes', nargs=None, const=None, default=4, type=<class 'str'>, choices=None, required=False, help=None, metavar=None)"
      ]
     },
     "execution_count": 3,
     "metadata": {},
     "output_type": "execute_result"
    }
   ],
   "source": [
    "parser = argparse.ArgumentParser()\n",
    "parser.add_argument(\"--num_processes\", default=4, type=str)\n",
    "\n",
    "# dataset configuration\n",
    "parser.add_argument(\"--num_workers\", default=4, type=int)\n",
    "parser.add_argument(\"--batch_size\", default=512, type=int)\n",
    "parser.add_argument(\"--pin_memory\", default=True, type=bool)\n",
    "\n",
    "# model configuration\n",
    "parser.add_argument(\"--model_type\", default=\"waveform\", choices=[\"waveform\", \"spectrogram\"], type=str)\n",
    "parser.add_argument(\"--embed_dim\", default=768, type=int)\n",
    "parser.add_argument(\"--num_heads\", default=16, type=int)\n",
    "parser.add_argument(\"--middle_channel\", default=512, type=int)\n",
    "parser.add_argument(\"--depth\", default=12, type=int)\n",
    "parser.add_argument(\"--masking_mode\", default=\"random\", choices=[\"random\", \"uniform\"], type=str)\n",
    "parser.add_argument(\"--masked_ratio\", default=0.8, type=float)\n",
    "\n",
    "# training configuration\n",
    "parser.add_argument(\"--epochs\", default=100, type=int)\n",
    "parser.add_argument(\"--lr\", default=1e-5, type=float)\n",
    "\n",
    "args = parser.parse_args()"
   ]
  },
  {
   "cell_type": "code",
   "execution_count": null,
   "metadata": {},
   "outputs": [],
   "source": [
    "def ddp_setup(rank: int, world_size: int):\n",
    "   \"\"\"\n",
    "   Args:\n",
    "       rank: Unique identifier of each process\n",
    "       world_size: Total number of processes\n",
    "   \"\"\"\n",
    "   os.environ[\"MASTER_ADDR\"] = \"localhost\"\n",
    "   os.environ[\"MASTER_PORT\"] = \"12355\"\n",
    "   torch.cuda.set_device(rank)\n",
    "   init_process_group(backend=\"nccl\", rank=rank, world_size=world_size)"
   ]
  },
  {
   "cell_type": "code",
   "execution_count": null,
   "metadata": {},
   "outputs": [],
   "source": [
    "# dataset\n",
    "training_set = load_dataset(\"agkphysics/AudioSet\", \"unbalanced\")\n",
    "training_set_sampler = DistributedSampler(training_set)\n",
    "train_loader = DataLoader(training_set, sampler=training_set_sampler, batch_size=args.batch_size, shuffle=True, num_workers=args.num_workers, pin_memory=True) # add collate function if needed"
   ]
  },
  {
   "cell_type": "code",
   "execution_count": null,
   "metadata": {},
   "outputs": [],
   "source": [
    "# model\n",
    "if args.model_type == \"waveform\":\n",
    "    model = WaveMAE(middle_channel=args.middle_channel, embed_dim=args.embed_dim, num_heads=args.num_heads, \n",
    "                    depth=args.depth, masking_mode=args.masking_mode, masked_ratio=args.masked_ratio)\n",
    "elif args.model_type == \"spectrogram\":\n",
    "    model = SpectrogramMAE(embed_dim=args.embed_dim, num_heads=args.num_heads, depth=args.depth,\n",
    "                           masking_mode=args.masking_mode, mask_ratio=args.mask_ratio)\n",
    "    \n",
    "model = torch.nn.SyncBatchNorm.convert_sync_batchnorm(model)\n",
    "model = DistributedDataParallel(model, device_ids=[])"
   ]
  }
 ],
 "metadata": {
  "kernelspec": {
   "display_name": "audio_mae_defense",
   "language": "python",
   "name": "python3"
  },
  "language_info": {
   "codemirror_mode": {
    "name": "ipython",
    "version": 3
   },
   "file_extension": ".py",
   "mimetype": "text/x-python",
   "name": "python",
   "nbconvert_exporter": "python",
   "pygments_lexer": "ipython3",
   "version": "3.11.9"
  }
 },
 "nbformat": 4,
 "nbformat_minor": 2
}
